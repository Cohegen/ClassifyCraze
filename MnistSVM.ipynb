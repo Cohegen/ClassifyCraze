{
 "cells": [
  {
   "cell_type": "code",
   "execution_count": 2,
   "id": "2c277ebc-a6b2-48d0-8d61-a5e982113974",
   "metadata": {},
   "outputs": [],
   "source": [
    "# import the necessary libraries\n",
    "from sklearn.datasets import fetch_openml\n",
    "from sklearn.pipeline import Pipeline\n",
    "from sklearn.svm import SVC\n",
    "from sklearn.preprocessing import PolynomialFeatures\n",
    "from sklearn.preprocessing import StandardScaler\n",
    "import numpy as np\n",
    "from sklearn.metrics import accuracy_score"
   ]
  },
  {
   "cell_type": "code",
   "execution_count": 4,
   "id": "11e6c425-a0e4-47cf-842a-9f66bcc7e678",
   "metadata": {},
   "outputs": [],
   "source": [
    "#load the mnist dataset\n",
    "mnist = fetch_openml('mnist_784',version=1,as_frame=False)"
   ]
  },
  {
   "cell_type": "code",
   "execution_count": 6,
   "id": "d3afb945-559c-4952-8c27-5962ff491a97",
   "metadata": {},
   "outputs": [
    {
     "data": {
      "text/plain": [
       "dict_keys(['data', 'target', 'frame', 'categories', 'feature_names', 'target_names', 'DESCR', 'details', 'url'])"
      ]
     },
     "execution_count": 6,
     "metadata": {},
     "output_type": "execute_result"
    }
   ],
   "source": [
    "mnist.keys()"
   ]
  },
  {
   "cell_type": "code",
   "execution_count": 8,
   "id": "331ce99f-77e5-4287-a373-a65f0f9378a6",
   "metadata": {},
   "outputs": [
    {
     "data": {
      "text/plain": [
       "(70000, 784)"
      ]
     },
     "execution_count": 8,
     "metadata": {},
     "output_type": "execute_result"
    }
   ],
   "source": [
    "X = mnist['data'] / 255.0 #Normalizing pixel values to [0,1]\n",
    "X.shape"
   ]
  },
  {
   "cell_type": "code",
   "execution_count": 10,
   "id": "d53c6e8d-f558-41d6-9324-ec860ddc7bf9",
   "metadata": {},
   "outputs": [
    {
     "data": {
      "text/plain": [
       "(70000,)"
      ]
     },
     "execution_count": 10,
     "metadata": {},
     "output_type": "execute_result"
    }
   ],
   "source": [
    "y = mnist['target']\n",
    "y.shape"
   ]
  },
  {
   "cell_type": "code",
   "execution_count": 12,
   "id": "60a0dcea-995e-4788-9e1f-cd8be7e463d2",
   "metadata": {},
   "outputs": [
    {
     "data": {
      "text/plain": [
       "array([5, 0, 4, ..., 4, 5, 6])"
      ]
     },
     "execution_count": 12,
     "metadata": {},
     "output_type": "execute_result"
    }
   ],
   "source": [
    "#convert to integer\n",
    "y = y.astype(int)\n",
    "y"
   ]
  },
  {
   "cell_type": "code",
   "execution_count": 14,
   "id": "7dfe7b2d-fccf-4a9f-bf1d-f0428b9fe56d",
   "metadata": {},
   "outputs": [
    {
     "data": {
      "image/png": "[encoded data removed]",
      "text/plain": [
       "<Figure size 640x480 with 1 Axes>"
      ]
     },
     "metadata": {},
     "output_type": "display_data"
    },
    {
     "name": "stdout",
     "output_type": "stream",
     "text": [
      "Label:5\n"
     ]
    }
   ],
   "source": [
    "import matplotlib.pyplot as plt\n",
    "some_digit = X[0]\n",
    "some_digit_image = some_digit.reshape(28,28)\n",
    "plt.imshow(some_digit_image,cmap='binary')\n",
    "plt.axis('off')\n",
    "plt.show()\n",
    "\n",
    "print(f\"Label:{y[0]}\")"
   ]
  },
  {
   "cell_type": "code",
   "execution_count": 16,
   "id": "9a1f33cf-fc1a-49d0-b125-622f3ccd15e5",
   "metadata": {},
   "outputs": [],
   "source": [
    "#splitting the dataset into training  and test sets\n",
    "from sklearn.model_selection import train_test_split\n",
    "\n",
    "X_train,X_test,y_train,y_test = train_test_split(X,y,test_size=0.2,random_state=42)"
   ]
  },
  {
   "cell_type": "code",
   "execution_count": 18,
   "id": "b49691e7-f1ac-48f2-807e-610fcd4bd24d",
   "metadata": {},
   "outputs": [
    {
     "data": {
      "text/plain": [
       "(56000, 784)"
      ]
     },
     "execution_count": 18,
     "metadata": {},
     "output_type": "execute_result"
    }
   ],
   "source": [
    "X_train.shape"
   ]
  },
  {
   "cell_type": "code",
   "execution_count": 20,
   "id": "f81ee154-7a1e-4859-b214-332f8b2fa610",
   "metadata": {},
   "outputs": [
    {
     "data": {
      "text/plain": [
       "(56000,)"
      ]
     },
     "execution_count": 20,
     "metadata": {},
     "output_type": "execute_result"
    }
   ],
   "source": [
    "y_train.shape"
   ]
  },
  {
   "cell_type": "code",
   "execution_count": 22,
   "id": "36aae89d-624b-4e5a-a6c9-ba7a62032a23",
   "metadata": {},
   "outputs": [
    {
     "data": {
      "text/plain": [
       "(14000, 784)"
      ]
     },
     "execution_count": 22,
     "metadata": {},
     "output_type": "execute_result"
    }
   ],
   "source": [
    "X_test.shape"
   ]
  },
  {
   "cell_type": "code",
   "execution_count": 24,
   "id": "793f66ed-85fd-457e-a920-2c556ecd302d",
   "metadata": {},
   "outputs": [
    {
     "data": {
      "text/plain": [
       "(14000,)"
      ]
     },
     "execution_count": 24,
     "metadata": {},
     "output_type": "execute_result"
    }
   ],
   "source": [
    "y_test.shape"
   ]
  },
  {
   "cell_type": "code",
   "execution_count": 26,
   "id": "2855d069-53ef-49d7-9120-f2cfa6fbe648",
   "metadata": {},
   "outputs": [],
   "source": [
    "#Implementing One-vs-All SVM\n",
    "#We are required to:\n",
    "#1)Train one svm for each class (0-9)\n",
    "#2)Use a non-linear kernel(e.g RBF) for better performance\n",
    "#3)Store all model and predict using the one with the highest confidence\n",
    "\n"
   ]
  },
  {
   "cell_type": "code",
   "execution_count": null,
   "id": "345db6df-3ef4-49fa-b388-6b8d2c7c5661",
   "metadata": {},
   "outputs": [
    {
     "name": "stdout",
     "output_type": "stream",
     "text": [
      "Training SVM for digit 0....\n",
      "Training SVM for digit 1....\n",
      "Training SVM for digit 2....\n",
      "Training SVM for digit 3....\n"
     ]
    }
   ],
   "source": [
    "#Intializing SVM models for each class\n",
    "svm_model = {}\n",
    "\n",
    "#Training one SVM for each class\n",
    "for digit in range(10):\n",
    "    print(f\"Training SVM for digit {digit}....\")\n",
    "    #Creating  binary labels: 1 for current digit, 0 for all others\n",
    "    y_train_binary = (y_train == digit).astype(int)\n",
    "    #Training and svm with RBF Kernel\n",
    "    model = SVC(kernel = 'rbf',probability=True,random_state=42)\n",
    "    model.fit(X_train,y_train_binary)\n",
    "    #Storing the trained model\n",
    "    svm_model[digit] = model\n"
   ]
  },
  {
   "cell_type": "code",
   "execution_count": null,
   "id": "c4ff50c1-3ad9-4cc7-a3ce-c53b3d7ea41a",
   "metadata": {},
   "outputs": [],
   "source": [
    "#Predicting with One-vs-All\n",
    "#We are required to : 1)Compute confidence scores for each model\n",
    "#2) Select the class with the highest confidence for each sample\n"
   ]
  },
  {
   "cell_type": "code",
   "execution_count": null,
   "id": "e1af97f4-6efe-48c9-a6a1-a3bde08700dc",
   "metadata": {},
   "outputs": [],
   "source": [
    "#Predicting using One-vs-All\n",
    "def predict_ova(models,X):\n",
    "    scores = np.zeros((X.shape[0],len(models)))\n",
    "\n",
    "    #Getting confidence scores for each class\n",
    "    for digit, model in model.items():\n",
    "        scores[:,digit] = model.predict_proba(X)[:,1] #Probability for the positive class\n",
    "    return np.argmax(scores,axis=1)\n",
    "\n",
    "y_pred = predict_ova(svm_models,X_test)\n",
    "\n",
    "    "
   ]
  },
  {
   "cell_type": "code",
   "execution_count": null,
   "id": "8a42fcbc-21f8-49cd-a9fe-e509902e48b9",
   "metadata": {},
   "outputs": [],
   "source": [
    "#Evaluating the accuracy of the model\n",
    "accuracy = accuracy_score(y_test,y_pred)\n",
    "print(f\"Accuracy:{accuracy * 100:.2f}%\")"
   ]
  },
  {
   "cell_type": "code",
   "execution_count": null,
   "id": "6db3fa37-81c5-4ad1-add8-2940cc529189",
   "metadata": {},
   "outputs": [],
   "source": [
    "#Improving the performance of our model\n",
    "#We'll use hyperparameter tuning\n",
    "from sklearn.model_selection import GridSearchCV\n",
    "param_grid = {\n",
    "    'C':[0.1,1,10],\n",
    "    'gamma':[0.001,0.01,0.1]\n",
    "}\n",
    "grid = GridSearchCV(SVC(kernel='rbf'),param_grid,cv=3)\n",
    "grid = grid.fit(X_train,y_train_binary)"
   ]
  }
 ],
 "metadata": {
  "kernelspec": {
   "display_name": "Python 3 (ipykernel)",
   "language": "python",
   "name": "python3"
  },
  "language_info": {
   "codemirror_mode": {
    "name": "ipython",
    "version": 3
   },
   "file_extension": ".py",
   "mimetype": "text/x-python",
   "name": "python",
   "nbconvert_exporter": "python",
   "pygments_lexer": "ipython3",
   "version": "3.12.4"
  }
 },
 "nbformat": 4,
 "nbformat_minor": 5
}
